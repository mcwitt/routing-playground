{
 "cells": [
  {
   "cell_type": "code",
   "execution_count": null,
   "metadata": {},
   "outputs": [],
   "source": [
    ":ext OverloadedStrings"
   ]
  },
  {
   "cell_type": "code",
   "execution_count": null,
   "metadata": {},
   "outputs": [],
   "source": [
    "import Data.List (find)\n",
    "import Data.Heap (Heap)\n",
    "import qualified Data.Heap as Heap\n",
    "import qualified Data.Map as Map\n",
    "import qualified Data.Set as Set"
   ]
  },
  {
   "cell_type": "code",
   "execution_count": null,
   "metadata": {},
   "outputs": [],
   "source": [
    "import qualified Graphics.Vega.VegaLite as VL\n",
    "import Graphics.Vega.VegaLite hiding (filter)"
   ]
  },
  {
   "cell_type": "code",
   "execution_count": null,
   "metadata": {},
   "outputs": [],
   "source": [
    ":!ghc-pkg latest ghc\n",
    ":!ghc-pkg latest ihaskell\n",
    ":!ghc-pkg latest hvega\n",
    ":!ghc-pkg latest ihaskell-hvega"
   ]
  },
  {
   "cell_type": "code",
   "execution_count": null,
   "metadata": {},
   "outputs": [],
   "source": [
    "import Routing.Lib (Node, DGraph, makeGraph, spDijkstra, dijkstra)\n",
    "import Routing.Osm (coords, queryEdges, queryNodes, unOsmEdge)\n",
    "import Database.PostgreSQL.Simple"
   ]
  },
  {
   "cell_type": "code",
   "execution_count": null,
   "metadata": {},
   "outputs": [],
   "source": [
    "missionCliffs, planetGranite :: Node\n",
    "missionCliffs = 65286435\n",
    "planetGranite = 7273409084"
   ]
  },
  {
   "cell_type": "code",
   "execution_count": null,
   "metadata": {},
   "outputs": [],
   "source": [
    "import Control.Monad.Reader\n",
    "\n",
    "connectTestDb = connectPostgreSQL\n",
    "  \"postgresql:///pgsnapshot?host=/home/matt/src/routing-playground/osm/postgres\"\n",
    "\n",
    "withTestDb :: ReaderT Connection IO a -> IO a\n",
    "withTestDb r = connectTestDb >>= \\testDb -> runReaderT r testDb"
   ]
  },
  {
   "cell_type": "code",
   "execution_count": null,
   "metadata": {},
   "outputs": [],
   "source": [
    "spData :: Node -> Node -> IO ([DataColumn] -> Data)\n",
    "spData orig dest = withTestDb $ do\n",
    "  es <- queryEdges\n",
    "  let graph = makeGraph $ fmap unOsmEdge es\n",
    "      Just (_, path) = spDijkstra orig dest graph\n",
    "  ns <- queryNodes path\n",
    "  let nm = Map.fromList ns\n",
    "      ordered = fmap (nm Map.!) path\n",
    "      pathCoords = fmap coords ordered\n",
    "      xs = fmap fst pathCoords\n",
    "      ys = fmap snd pathCoords\n",
    "      dat = dataFromColumns []\n",
    "          . dataColumn \"ord\" (Numbers $ fmap fromIntegral [1 .. length ns])\n",
    "          . dataColumn \"lat\" (Numbers ys)\n",
    "          . dataColumn \"lng\" (Numbers xs)\n",
    "  return dat"
   ]
  },
  {
   "cell_type": "code",
   "execution_count": null,
   "metadata": {},
   "outputs": [],
   "source": [
    "spData missionCliffs planetGranite >>= \\path ->\n",
    "    let base = dataFromUrl \"https://gist.githubusercontent.com/zachmargolis/374a267e8c9a66cc4152/raw/f1b6193b6ec7e20640ecbe900a78e2c097891573/sfshore.json\" [TopojsonFeature \"sfshore\"]\n",
    "        layerBase = [base, mark Geoshape [MFill \"lightgray\", MStroke \"white\"]]\n",
    "        encLoc = encoding\n",
    "               . position X [PName \"lng\", PmType Quantitative, PScale [SDomain (DNumbers [-122.525, -122.35])]]\n",
    "               . position Y [PName \"lat\", PmType Quantitative, PScale [SDomain (DNumbers [37.694, 37.815])]]\n",
    "               . order [OName \"ord\"]\n",
    "        layerPath = [path [], encPath [], mark Line []]\n",
    "        scatter = toVegaLite [description \"\", width 500, height 500, layer (map asSpec [layerBase, layerPath])]\n",
    "    in return $ vlShow scatter"
   ]
  },
  {
   "cell_type": "code",
   "execution_count": null,
   "metadata": {},
   "outputs": [],
   "source": [
    "spData' :: Node -> Node -> IO ([DataColumn] -> Data, [DataColumn] -> Data)\n",
    "spData' o d = withTestDb $ do\n",
    "  es <- queryEdges\n",
    "  let graph = makeGraph $ fmap unOsmEdge es\n",
    "      (ps, sp@(_, ns) : _) = break (\\(_, x : _) -> x == d)\n",
    "                           $ dijkstra graph (Heap.singleton (0, [o])) Set.empty\n",
    "      allNodes = sp : ps >>= snd\n",
    "      \n",
    "  nd <- queryNodes allNodes\n",
    "  \n",
    "  let nm = Map.fromList nd\n",
    "      path =\n",
    "        let ordered = fmap (nm Map.!) ns\n",
    "            pathCoords = fmap coords ordered\n",
    "            xs = fmap fst pathCoords\n",
    "            ys = fmap snd pathCoords\n",
    "        in  dataFromColumns []\n",
    "          . dataColumn \"ord\" (Numbers $ fmap fromIntegral [1 .. length ns])\n",
    "          . dataColumn \"lat\" (Numbers ys)\n",
    "          . dataColumn \"lng\" (Numbers xs)\n",
    "      visited = \n",
    "        let nodeCoords = fmap (coords . snd) nd\n",
    "            xs = fmap fst nodeCoords\n",
    "            ys = fmap snd nodeCoords\n",
    "        in  dataFromColumns []\n",
    "          . dataColumn \"lat\" (Numbers ys)\n",
    "          . dataColumn \"lng\" (Numbers xs)\n",
    "          \n",
    "  return (path, visited)"
   ]
  },
  {
   "cell_type": "code",
   "execution_count": null,
   "metadata": {},
   "outputs": [],
   "source": [
    "spData' missionCliffs planetGranite >>= \\(sp, nodes) ->\n",
    "    let base = dataFromUrl \"https://gist.githubusercontent.com/zachmargolis/374a267e8c9a66cc4152/raw/f1b6193b6ec7e20640ecbe900a78e2c097891573/sfshore.json\" [TopojsonFeature \"sfshore\"]\n",
    "        layerBase = [base, mark Geoshape [MFill \"lightgray\", MStroke \"white\"]]\n",
    "        encLoc = encoding\n",
    "               . position X [PName \"lng\", PmType Quantitative, PScale [SDomain (DNumbers [-122.525, -122.35])]]\n",
    "               . position Y [PName \"lat\", PmType Quantitative, PScale [SDomain (DNumbers [37.694, 37.815])]]\n",
    "               . order [OName \"ord\"]\n",
    "        layerPath = [sp [], encLoc [], mark Line []]\n",
    "        layerNodes = [nodes [], encLoc [], mark Circle [MColor \"red\", MSize 1, MOpacity 0.5]]\n",
    "        scatter = toVegaLite [description \"\", width 500, height 500, layer (map asSpec [layerBase, layerNodes, layerPath])]\n",
    "    in return $ vlShow scatter"
   ]
  },
  {
   "cell_type": "code",
   "execution_count": null,
   "metadata": {},
   "outputs": [],
   "source": []
  }
 ],
 "metadata": {
  "kernelspec": {
   "display_name": "Haskell - haskell",
   "language": "haskell",
   "name": "ihaskell_haskell"
  },
  "language_info": {
   "codemirror_mode": "ihaskell",
   "file_extension": ".hs",
   "name": "haskell",
   "pygments_lexer": "Haskell",
   "version": "8.4.4"
  }
 },
 "nbformat": 4,
 "nbformat_minor": 4
}
